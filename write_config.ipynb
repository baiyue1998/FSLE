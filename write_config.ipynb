{
 "cells": [
  {
   "cell_type": "code",
   "execution_count": 1,
   "id": "36cabaa2",
   "metadata": {},
   "outputs": [],
   "source": [
    "from netCDF4 import Dataset\n",
    "from datetime import datetime, date, timedelta \n",
    "import glob"
   ]
  },
  {
   "cell_type": "code",
   "execution_count": 2,
   "id": "b2d66509",
   "metadata": {},
   "outputs": [],
   "source": [
    "nc = Dataset('./dataset.nc')\n",
    "time = nc.variables['time'][:].astype(int)\n",
    "U = nc.variables['ugos'][:]\n",
    "V = nc.variables['vgos'][:]\n",
    "lon = nc.variables['longitude'][:]\n",
    "lat = nc.variables['latitude'][:]"
   ]
  },
  {
   "cell_type": "code",
   "execution_count": 3,
   "id": "389da270",
   "metadata": {},
   "outputs": [],
   "source": [
    "ref = datetime(1950,1,1,0,0).toordinal() ## reference date \n",
    "time = time + ref\n",
    "day_sat = [datetime.fromordinal(time[i]) for i in range(len(time))]"
   ]
  },
  {
   "cell_type": "code",
   "execution_count": 4,
   "id": "e3251276",
   "metadata": {},
   "outputs": [],
   "source": [
    "date = []\n",
    "for i in range(len(day_sat)):\n",
    "    date.append(str(day_sat[i])+'.000000 UTC') # converts into the required date format"
   ]
  },
  {
   "cell_type": "code",
   "execution_count": 5,
   "id": "2fa21260",
   "metadata": {},
   "outputs": [],
   "source": [
    "prnt='/Users/baiyue/Desktop/Fsle_data/'   ## change this to where you want the daily data to be stored "
   ]
  },
  {
   "cell_type": "code",
   "execution_count": 6,
   "id": "cbfd1a5b",
   "metadata": {},
   "outputs": [
    {
     "ename": "PermissionError",
     "evalue": "[Errno 13] Permission denied: b'/Users/baiyue/Desktop/Fsle_data/2023_10_01.nc'",
     "output_type": "error",
     "traceback": [
      "\u001b[0;31m---------------------------------------------------------------------------\u001b[0m",
      "\u001b[0;31mPermissionError\u001b[0m                           Traceback (most recent call last)",
      "\u001b[0;32m<ipython-input-6-3e0e7af2b7b0>\u001b[0m in \u001b[0;36m<module>\u001b[0;34m\u001b[0m\n\u001b[1;32m      3\u001b[0m     \u001b[0mvv\u001b[0m \u001b[0;34m=\u001b[0m \u001b[0mV\u001b[0m\u001b[0;34m[\u001b[0m\u001b[0mi\u001b[0m\u001b[0;34m,\u001b[0m\u001b[0;34m:\u001b[0m\u001b[0;34m,\u001b[0m\u001b[0;34m:\u001b[0m\u001b[0;34m]\u001b[0m\u001b[0;34m\u001b[0m\u001b[0;34m\u001b[0m\u001b[0m\n\u001b[1;32m      4\u001b[0m     \u001b[0;31m# create nc file\u001b[0m\u001b[0;34m\u001b[0m\u001b[0;34m\u001b[0m\u001b[0;34m\u001b[0m\u001b[0m\n\u001b[0;32m----> 5\u001b[0;31m     \u001b[0mdataset\u001b[0m \u001b[0;34m=\u001b[0m \u001b[0mDataset\u001b[0m\u001b[0;34m(\u001b[0m\u001b[0mprnt\u001b[0m\u001b[0;34m+\u001b[0m\u001b[0mdate\u001b[0m\u001b[0;34m[\u001b[0m\u001b[0mi\u001b[0m\u001b[0;34m]\u001b[0m\u001b[0;34m[\u001b[0m\u001b[0;36m0\u001b[0m\u001b[0;34m:\u001b[0m\u001b[0;36m10\u001b[0m\u001b[0;34m]\u001b[0m\u001b[0;34m.\u001b[0m\u001b[0mreplace\u001b[0m\u001b[0;34m(\u001b[0m\u001b[0;34m'-'\u001b[0m\u001b[0;34m,\u001b[0m\u001b[0;34m'_'\u001b[0m\u001b[0;34m)\u001b[0m\u001b[0;34m+\u001b[0m\u001b[0;34m'.nc'\u001b[0m\u001b[0;34m,\u001b[0m\u001b[0;34m'w'\u001b[0m\u001b[0;34m,\u001b[0m\u001b[0mformat\u001b[0m\u001b[0;34m=\u001b[0m\u001b[0;34m'NETCDF4_CLASSIC'\u001b[0m\u001b[0;34m)\u001b[0m\u001b[0;34m\u001b[0m\u001b[0;34m\u001b[0m\u001b[0m\n\u001b[0m\u001b[1;32m      6\u001b[0m     \u001b[0;31m# create the file dimension\u001b[0m\u001b[0;34m\u001b[0m\u001b[0;34m\u001b[0m\u001b[0;34m\u001b[0m\u001b[0m\n\u001b[1;32m      7\u001b[0m     \u001b[0my\u001b[0m\u001b[0;34m=\u001b[0m\u001b[0mdataset\u001b[0m\u001b[0;34m.\u001b[0m\u001b[0mcreateDimension\u001b[0m\u001b[0;34m(\u001b[0m\u001b[0;34m'y'\u001b[0m\u001b[0;34m,\u001b[0m\u001b[0mlat\u001b[0m\u001b[0;34m.\u001b[0m\u001b[0mshape\u001b[0m\u001b[0;34m[\u001b[0m\u001b[0;36m0\u001b[0m\u001b[0;34m]\u001b[0m\u001b[0;34m)\u001b[0m\u001b[0;34m\u001b[0m\u001b[0;34m\u001b[0m\u001b[0m\n",
      "\u001b[0;32mnetCDF4/_netCDF4.pyx\u001b[0m in \u001b[0;36mnetCDF4._netCDF4.Dataset.__init__\u001b[0;34m()\u001b[0m\n",
      "\u001b[0;32mnetCDF4/_netCDF4.pyx\u001b[0m in \u001b[0;36mnetCDF4._netCDF4._ensure_nc_success\u001b[0;34m()\u001b[0m\n",
      "\u001b[0;31mPermissionError\u001b[0m: [Errno 13] Permission denied: b'/Users/baiyue/Desktop/Fsle_data/2023_10_01.nc'"
     ]
    }
   ],
   "source": [
    "for i in range(len(date)): ## here we are creating one .nc file per day\n",
    "    uu = U[i,:,:]\n",
    "    vv = V[i,:,:]\n",
    "    # create nc file\n",
    "    dataset = Dataset(prnt+date[i][0:10].replace('-','_')+'.nc','w',format='NETCDF4_CLASSIC')\n",
    "    # create the file dimension\n",
    "    y=dataset.createDimension('y',lat.shape[0])\n",
    "    x=dataset.createDimension('x',lon.shape[0])\n",
    "    # create the variables\n",
    "    y = dataset.createVariable('y',np.float32,('y',))\n",
    "    x = dataset.createVariable('x',np.float32,('x',))\n",
    "    u = dataset.createVariable('u',np.float32,('x','y'))\n",
    "    v = dataset.createVariable('v',np.float32,('y','x'))\n",
    "    # variable attributes\n",
    "    y.long_name='Latitudes'\n",
    "    y.units='degrees_north'\n",
    "    x.long_name='Longitudes'\n",
    "    x.units='degrees_east'\n",
    "\n",
    "    u.long_name='U'\n",
    "    u.units='cm/s'\n",
    "    u.date= str(date[i])\n",
    "\n",
    "    v.long_name='V'\n",
    "    v.units='cm/s'\n",
    "    v.date=str(date[i])\n",
    "    ## write in the variables\n",
    "    y[:]=lat\n",
    "    x[:]=lon\n",
    "    u[:]=100*uu.T # convert into cm/s  \n",
    "    v[:]=100*vv  # convert into cm/s\n",
    "    dataset.close()"
   ]
  },
  {
   "cell_type": "code",
   "execution_count": 8,
   "id": "9c560fb4",
   "metadata": {},
   "outputs": [],
   "source": [
    "## Create the config.ini file\n",
    "field = sorted(glob.glob(prnt +'2023*.nc'))\n",
    "FF = list()\n",
    "for i in range(len(field)):\n",
    "    FF.append('U='+str(field[i]))\n",
    "for i in range(len(field)):\n",
    "    FF.append('V='+str(field[i]))\n",
    "\n",
    "outF = open(prnt+str('config.ini'),'w') \n",
    "for line in FF:\n",
    "  # write line to output file\n",
    "  outF.write(line)\n",
    "  outF.write(\"\\n\")\n",
    "outF.write('U_NAME = u')\n",
    "outF.write(\"\\n\")\n",
    "outF.write('V_NAME = v')\n",
    "outF.write(\"\\n\")\n",
    "outF.write('FILL_VALUE = 0')\n",
    "outF.close()"
   ]
  },
  {
   "cell_type": "code",
   "execution_count": null,
   "id": "1c7bac79",
   "metadata": {},
   "outputs": [],
   "source": []
  }
 ],
 "metadata": {
  "kernelspec": {
   "display_name": "Python 3",
   "language": "python",
   "name": "python3"
  },
  "language_info": {
   "codemirror_mode": {
    "name": "ipython",
    "version": 3
   },
   "file_extension": ".py",
   "mimetype": "text/x-python",
   "name": "python",
   "nbconvert_exporter": "python",
   "pygments_lexer": "ipython3",
   "version": "3.7.9"
  }
 },
 "nbformat": 4,
 "nbformat_minor": 5
}
